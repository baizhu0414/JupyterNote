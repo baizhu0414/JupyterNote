{
 "cells": [
  {
   "cell_type": "code",
   "execution_count": 1,
   "id": "7ad92f96",
   "metadata": {},
   "outputs": [],
   "source": [
    "import numpy as np"
   ]
  },
  {
   "cell_type": "code",
   "execution_count": 7,
   "id": "eb561e09",
   "metadata": {},
   "outputs": [
    {
     "name": "stdout",
     "output_type": "stream",
     "text": [
      "[1 2 3] <class 'numpy.ndarray'> [2 4 6]\n"
     ]
    }
   ],
   "source": [
    "arr=np.array([1,2,3])\n",
    "print(arr, type(arr), arr*2)"
   ]
  },
  {
   "cell_type": "code",
   "execution_count": 8,
   "id": "170d8138",
   "metadata": {
    "scrolled": false
   },
   "outputs": [
    {
     "name": "stdout",
     "output_type": "stream",
     "text": [
      "[100   2   3]\n"
     ]
    }
   ],
   "source": [
    "#插入元素\n",
    "arr[0]=100.9\n",
    "print(arr)"
   ]
  },
  {
   "cell_type": "code",
   "execution_count": 5,
   "id": "450f3b3c",
   "metadata": {},
   "outputs": [
    {
     "name": "stdout",
     "output_type": "stream",
     "text": [
      "[100.   2.   3.]\n"
     ]
    }
   ],
   "source": [
    "#数组整体类型转换\n",
    "arr2=arr.astype(float)\n",
    "print(arr2)"
   ]
  },
  {
   "cell_type": "code",
   "execution_count": 5,
   "id": "7263ea7f",
   "metadata": {
    "scrolled": false
   },
   "outputs": [
    {
     "name": "stdout",
     "output_type": "stream",
     "text": [
      "三维数组 [[[1. 1. 1.]\n",
      "  [1. 1. 1.]]]\n",
      "形状 (1, 2, 3)\n",
      "二维数组 [[0. 0. 0.]\n",
      " [0. 0. 0.]]\n",
      "二维数组 [[1.1 1.1]\n",
      " [1.1 1.1]]\n"
     ]
    }
   ],
   "source": [
    "#参数是元组，表示数组形状。此处创建了一个三维数组。\n",
    "arr3=np.ones((1,2,3))\n",
    "print('三维数组',arr3)\n",
    "print('形状',arr3.shape)\n",
    "print('二维数组',np.zeros((2,3)))\n",
    "print('二维数组',np.ones((2,2))*1.1)"
   ]
  },
  {
   "cell_type": "code",
   "execution_count": 9,
   "id": "a635df6b",
   "metadata": {},
   "outputs": [
    {
     "name": "stdout",
     "output_type": "stream",
     "text": [
      "[[1. 1. 1. 1. 1. 1.]]\n",
      "[1. 1. 1. 1. 1. 1.]\n"
     ]
    }
   ],
   "source": [
    "#一维数组升级为二维数组(元组第二个数字 -1表示自行运算)\n",
    "arr4=arr3.reshape((1,-1))\n",
    "print(arr4)\n",
    "print(arr4.reshape(-1))"
   ]
  },
  {
   "cell_type": "code",
   "execution_count": 15,
   "id": "ad943244",
   "metadata": {},
   "outputs": [
    {
     "name": "stdout",
     "output_type": "stream",
     "text": [
      "[0 1 2 3 4 5 6 7 8 9]\n",
      "[[0 1 2 3 4]\n",
      " [5 6 7 8 9]]\n",
      "[0 1 2 3 4 5 6 7 8 9]\n"
     ]
    }
   ],
   "source": [
    "arr5=np.arange(10)\n",
    "print(arr5)\n",
    "print(arr5.reshape(2,5))\n",
    "print(arr5.reshape(2,5).reshape(-1))"
   ]
  },
  {
   "cell_type": "code",
   "execution_count": 25,
   "id": "f590cc4c",
   "metadata": {},
   "outputs": [
    {
     "name": "stdout",
     "output_type": "stream",
     "text": [
      "[ 1  4  7 10 13 16 19]\n"
     ]
    }
   ],
   "source": [
    "#1~22数组，步长为3（不包含右边界22）\n",
    "arr6=np.arange(1,22,3)\n",
    "print(arr6)"
   ]
  },
  {
   "cell_type": "code",
   "execution_count": 7,
   "id": "b3da046a",
   "metadata": {
    "scrolled": false
   },
   "outputs": [
    {
     "name": "stdout",
     "output_type": "stream",
     "text": [
      "[[65.34520786 81.98083484 61.13054657]\n",
      " [90.05093657 69.73268917 90.10906508]]\n",
      "[[26 49 70]\n",
      " [21 99 39]]\n",
      "X: [[0.46332405]\n",
      " [0.1913527 ]\n",
      " [0.60853755]\n",
      " [0.48401268]\n",
      " [0.10194666]]\n",
      "NumPy 2*X: [[0.9266481 ]\n",
      " [0.3827054 ]\n",
      " [1.2170751 ]\n",
      " [0.96802535]\n",
      " [0.20389332]]\n",
      "N(0,1) Y: [[-0.70897851]\n",
      " [-0.57874412]\n",
      " [ 2.35865587]\n",
      " [-0.51573855]\n",
      " [-1.620678  ]]\n",
      "Python list*2 [1, 2, 3, 1, 2, 3]\n",
      "[2, 4, 6]\n"
     ]
    }
   ],
   "source": [
    "print(np.random.random((2,3))*40+ 60)\n",
    "print(np.random.randint(10, 100, (2,3)))\n",
    "\n",
    "X= np.random.rand(5, 1) # (0,1)间均匀分布随机数，形状(100*1)\n",
    "Y= np.random.randn(5, 1) # 标准正态分布（均值为0，标准差为1）的随机数\n",
    "print('X:', X)\n",
    "print('NumPy 2*X:', 2*X)\n",
    "print('N(0,1) Y:', Y)\n",
    "\n",
    "'''NumPy 采用了不同的广播机制和操作规则，与 Python 的列表操作不同。\n",
    "   NumPy会把内部每个元素乘a，而Python的list会直接复制a遍。'''\n",
    "testList= [1,2,3]\n",
    "print('Python list*2', testList*2) # 长度变成2倍\n",
    "testList= [x * 2 for x in testList] # 变成2倍\n",
    "print(testList)"
   ]
  },
  {
   "cell_type": "code",
   "execution_count": 35,
   "id": "08cda12a",
   "metadata": {},
   "outputs": [
    {
     "name": "stdout",
     "output_type": "stream",
     "text": [
      "[[0 1]\n",
      " [2 3]\n",
      " [4 5]\n",
      " [6 7]\n",
      " [8 9]]\n",
      "访问元素 1\n"
     ]
    }
   ],
   "source": [
    "arr8=np.arange(10).reshape((5,2))\n",
    "print(arr8)\n",
    "print('访问元素',arr8[0,1])"
   ]
  },
  {
   "cell_type": "code",
   "execution_count": 38,
   "id": "cec6f583",
   "metadata": {},
   "outputs": [
    {
     "name": "stdout",
     "output_type": "stream",
     "text": [
      "[[2 3]\n",
      " [4 5]]\n"
     ]
    }
   ],
   "source": [
    "#提取行\n",
    "print(arr8[1:3,:])"
   ]
  },
  {
   "cell_type": "code",
   "execution_count": 7,
   "id": "760d7b3e",
   "metadata": {},
   "outputs": [
    {
     "name": "stdout",
     "output_type": "stream",
     "text": [
      "[0 1 2 3 4 5 6 7 8 9]\n",
      "[100   1   2   3   4   5   6   7   8   9]\n",
      "[[0]\n",
      " [1]\n",
      " [2]\n",
      " [3]\n",
      " [4]\n",
      " [5]\n",
      " [6]\n",
      " [7]\n",
      " [8]\n",
      " [9]]\n",
      "[[0 5]\n",
      " [1 6]\n",
      " [2 7]\n",
      " [3 8]\n",
      " [4 9]]\n"
     ]
    }
   ],
   "source": [
    "# 深度复制\n",
    "arr9=np.arange(10)\n",
    "arr10=arr9.copy()\n",
    "arr10[0]=100\n",
    "print(arr9)\n",
    "print(arr10)\n",
    "# 列向量\n",
    "print(arr9.reshape(-1,1))\n",
    "# 矩阵转置\n",
    "print(arr9.reshape(2,5).T)"
   ]
  },
  {
   "cell_type": "code",
   "execution_count": 10,
   "id": "c02222af",
   "metadata": {},
   "outputs": [
    {
     "name": "stdout",
     "output_type": "stream",
     "text": [
      "[[0 1 2 3 4]\n",
      " [5 6 7 8 9]]\n",
      "[[2 3]\n",
      " [7 8]]\n"
     ]
    }
   ],
   "source": [
    "# 提取矩阵列\n",
    "arr11=arr9.reshape(2,5)\n",
    "print(arr11)\n",
    "print(arr11[:,2:4])"
   ]
  },
  {
   "cell_type": "code",
   "execution_count": 15,
   "id": "c9a7260a",
   "metadata": {},
   "outputs": [
    {
     "name": "stdout",
     "output_type": "stream",
     "text": [
      "[0 1 2 3 4 5 6 7 8 9]\n",
      "[[0 1 2 3 4]\n",
      " [5 6 7 8 9]]\n",
      "[[0 1 2 3 4]\n",
      " [5 6 7 8 9]]\n",
      "[0 1 2 3 4 5 6 7 8 9]\n"
     ]
    }
   ],
   "source": [
    "# 转换为矩阵\n",
    "print(arr9)\n",
    "print(arr9.reshape(2,-1))\n",
    "print(arr9.reshape((2,-1)))\n",
    "# 转换为向量\n",
    "print(arr9.reshape(2,5).reshape(10))"
   ]
  },
  {
   "cell_type": "code",
   "execution_count": 5,
   "id": "e9845463",
   "metadata": {},
   "outputs": [
    {
     "name": "stdout",
     "output_type": "stream",
     "text": [
      "[[0 1 4 5 6]\n",
      " [2 3 7 8 9]]\n",
      "(2, 2)\n"
     ]
    }
   ],
   "source": [
    "arr12=np.arange(4).reshape((2,2))\n",
    "# 将列表中的数组们拼接\n",
    "print(np.concatenate([arr12, np.arange(4,10).reshape((2,3))], axis=1))\n",
    "print(arr12.shape)"
   ]
  },
  {
   "cell_type": "code",
   "execution_count": 30,
   "id": "a9c2854e",
   "metadata": {},
   "outputs": [
    {
     "name": "stdout",
     "output_type": "stream",
     "text": [
      "[[1 2 3]\n",
      " [4 5 6]]\n",
      "[[0 1 2]\n",
      " [3 4 5]]\n",
      "[[1 2 3]\n",
      " [4 5 6]\n",
      " [0 1 2]\n",
      " [3 4 5]]\n",
      "[[1 2 3 0 1 2]\n",
      " [4 5 6 3 4 5]]\n"
     ]
    }
   ],
   "source": [
    "arr13=np.array([[1,2,3],[4,5,6]])\n",
    "print(arr13)\n",
    "arr14=np.arange(6).reshape(2,3)\n",
    "print(arr14)\n",
    "# 作为行拼接\n",
    "print(np.concatenate([arr13,arr14], axis=0))\n",
    "# 作为列拼接\n",
    "print(np.concatenate([arr13,arr14], axis=1))"
   ]
  },
  {
   "cell_type": "code",
   "execution_count": null,
   "id": "b361aaa2",
   "metadata": {},
   "outputs": [],
   "source": []
  }
 ],
 "metadata": {
  "kernelspec": {
   "display_name": "Test01VirtualEnv",
   "language": "python",
   "name": "test01virtualenv"
  },
  "language_info": {
   "codemirror_mode": {
    "name": "ipython",
    "version": 3
   },
   "file_extension": ".py",
   "mimetype": "text/x-python",
   "name": "python",
   "nbconvert_exporter": "python",
   "pygments_lexer": "ipython3",
   "version": "3.8.19"
  }
 },
 "nbformat": 4,
 "nbformat_minor": 5
}
