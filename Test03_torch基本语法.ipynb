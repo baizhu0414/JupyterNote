{
 "cells": [
  {
   "cell_type": "code",
   "execution_count": 1,
   "id": "fd807f8c",
   "metadata": {},
   "outputs": [],
   "source": [
    "import torch"
   ]
  },
  {
   "cell_type": "code",
   "execution_count": 3,
   "id": "3d331b34",
   "metadata": {},
   "outputs": [
    {
     "name": "stdout",
     "output_type": "stream",
     "text": [
      "tensor([1., 2., 3., 4.])\n",
      "tensor([[1., 2.],\n",
      "        [3., 4.]])\n"
     ]
    }
   ],
   "source": [
    "# 创建数组\n",
    "arr1= torch.tensor([1.0, 2, 3, 4])\n",
    "print(arr1)\n",
    "print(arr1.reshape(2, 2))"
   ]
  },
  {
   "cell_type": "code",
   "execution_count": 8,
   "id": "4293039d",
   "metadata": {},
   "outputs": [
    {
     "name": "stdout",
     "output_type": "stream",
     "text": [
      "tensor([[ 0,  1,  2,  3],\n",
      "        [ 4,  5,  6,  7],\n",
      "        [ 8,  9, 10, 11]])\n",
      "tensor([[1, 2, 3, 4],\n",
      "        [2, 3, 4, 5],\n",
      "        [3, 4, 5, 6]])\n",
      "tensor([[ 0,  1,  2,  3],\n",
      "        [ 4,  5,  6,  7],\n",
      "        [ 8,  9, 10, 11],\n",
      "        [ 1,  2,  3,  4],\n",
      "        [ 2,  3,  4,  5],\n",
      "        [ 3,  4,  5,  6]])\n",
      "tensor([[ 0,  1,  2,  3,  1,  2,  3,  4],\n",
      "        [ 4,  5,  6,  7,  2,  3,  4,  5],\n",
      "        [ 8,  9, 10, 11,  3,  4,  5,  6]])\n"
     ]
    }
   ],
   "source": [
    "arr2= torch.arange(12).reshape(3,4)\n",
    "arr3= torch.tensor([[1,2,3,4],[2,3,4,5],[3,4,5,6]])\n",
    "print(arr2)\n",
    "print(arr3)\n",
    "# 数组拼接\n",
    "print(torch.cat((arr2, arr3), dim=0))\n",
    "print(torch.cat((arr2, arr3), dim=1))"
   ]
  },
  {
   "cell_type": "code",
   "execution_count": 10,
   "id": "ee965c2e",
   "metadata": {},
   "outputs": [
    {
     "name": "stdout",
     "output_type": "stream",
     "text": [
      "tensor([[   0,    1, 1000,    3],\n",
      "        [   4,    5,    6,    7],\n",
      "        [   8,    9,   10,   11]])\n",
      "tensor([   0,    1, 1000,    3])\n"
     ]
    }
   ],
   "source": [
    "# 访问单个元素\n",
    "arr2[0, 2]= 1000\n",
    "print(arr2)\n",
    "# 访问一行\n",
    "print(arr2[0,])"
   ]
  },
  {
   "cell_type": "code",
   "execution_count": 13,
   "id": "1a22c727",
   "metadata": {
    "scrolled": true
   },
   "outputs": [
    {
     "name": "stdout",
     "output_type": "stream",
     "text": [
      "tensor([[   1,    2, 1001,    4],\n",
      "        [   5,    6,    7,    8],\n",
      "        [   9,   10,   11,   12]])\n",
      "True\n",
      "False\n"
     ]
    }
   ],
   "source": [
    "#节约内存的方法（原地操作，不重新分配内存）\n",
    "x= id(arr2)\n",
    "arr2[:]= arr2+ 1\n",
    "y= id(arr2)\n",
    "# 默认重新分配内存\n",
    "arr2= arr2- 2\n",
    "z= id(arr2)\n",
    "print(arr2)\n",
    "print(x== y)\n",
    "print(x== z)"
   ]
  },
  {
   "cell_type": "code",
   "execution_count": 16,
   "id": "a06ebf0f",
   "metadata": {
    "scrolled": true
   },
   "outputs": [
    {
     "name": "stdout",
     "output_type": "stream",
     "text": [
      "tensor([[   1,    2, 1001,    4],\n",
      "        [   5,    6,    7,    8],\n",
      "        [   9,   10,   11,   12]])\n",
      "[[   1    2 1001    4]\n",
      " [   5    6    7    8]\n",
      " [   9   10   11   12]] \n",
      " tensor([[   1,    2, 1001,    4],\n",
      "        [   5,    6,    7,    8],\n",
      "        [   9,   10,   11,   12]])\n",
      "<class 'numpy.ndarray'> <class 'torch.Tensor'>\n"
     ]
    }
   ],
   "source": [
    "# tensor->numpy\n",
    "A= arr2.numpy()\n",
    "# numpy->tensor\n",
    "B= torch.tensor(A)\n",
    "print(arr2)\n",
    "print(A, '\\n', B)\n",
    "print(type(A), type(B))"
   ]
  },
  {
   "cell_type": "code",
   "execution_count": 20,
   "id": "56af3a3e",
   "metadata": {},
   "outputs": [
    {
     "data": {
      "text/plain": [
       "(tensor([3.5000]), 3.5, 3.5, 3)"
      ]
     },
     "execution_count": 20,
     "metadata": {},
     "output_type": "execute_result"
    }
   ],
   "source": [
    "a = torch.tensor([3.5])\n",
    "a, a.item(), float(a), int(a)"
   ]
  },
  {
   "cell_type": "code",
   "execution_count": null,
   "id": "24cd0a41",
   "metadata": {},
   "outputs": [],
   "source": []
  }
 ],
 "metadata": {
  "kernelspec": {
   "display_name": "Test01VirtualEnv",
   "language": "python",
   "name": "test01virtualenv"
  },
  "language_info": {
   "codemirror_mode": {
    "name": "ipython",
    "version": 3
   },
   "file_extension": ".py",
   "mimetype": "text/x-python",
   "name": "python",
   "nbconvert_exporter": "python",
   "pygments_lexer": "ipython3",
   "version": "3.9.19"
  }
 },
 "nbformat": 4,
 "nbformat_minor": 5
}
