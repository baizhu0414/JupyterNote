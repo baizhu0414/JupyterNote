{
 "cells": [
  {
   "cell_type": "code",
   "execution_count": 2,
   "id": "1a03dd37",
   "metadata": {},
   "outputs": [],
   "source": [
    "import torch"
   ]
  },
  {
   "cell_type": "code",
   "execution_count": 3,
   "id": "d00b2dc4",
   "metadata": {},
   "outputs": [
    {
     "name": "stdout",
     "output_type": "stream",
     "text": [
      "<class 'torch.Tensor'> \n",
      " tensor([[ 0,  1,  2,  3],\n",
      "        [ 4,  5,  6,  7],\n",
      "        [ 8,  9, 10, 11]]) \n",
      " tensor([[ 0,  4,  8],\n",
      "        [ 1,  5,  9],\n",
      "        [ 2,  6, 10],\n",
      "        [ 3,  7, 11]])\n"
     ]
    }
   ],
   "source": [
    "A= torch.arange(12).reshape((3,4))\n",
    "print(type(A), '\\n', A, '\\n', A.T)"
   ]
  },
  {
   "cell_type": "code",
   "execution_count": 7,
   "id": "170909a2",
   "metadata": {
    "scrolled": true
   },
   "outputs": [
    {
     "name": "stdout",
     "output_type": "stream",
     "text": [
      "tensor([[  0,   1,   4,   9],\n",
      "        [ 16,  25,  36,  49],\n",
      "        [ 64,  81, 100, 121]]) \n",
      " tensor([[  0,   1,   4,   9],\n",
      "        [ 16,  25,  36,  49],\n",
      "        [ 64,  81, 100, 121]])\n"
     ]
    }
   ],
   "source": [
    "# 按位乘法\n",
    "print(A*A, '\\n', A**2)"
   ]
  },
  {
   "cell_type": "code",
   "execution_count": 14,
   "id": "960ee6f4",
   "metadata": {},
   "outputs": [
    {
     "name": "stdout",
     "output_type": "stream",
     "text": [
      "tensor(66)\n",
      "tensor(66)\n",
      "tensor([12, 15, 18, 21])\n",
      "tensor([ 6, 22, 38])\n"
     ]
    }
   ],
   "source": [
    "# 所有元素和\n",
    "print(A.sum())\n",
    "print(A.sum(axis=[0, 1]))\n",
    "# 每列元素和\n",
    "print(A.sum(axis=0))\n",
    "# 每行元素和\n",
    "print(A.sum(axis=1))"
   ]
  },
  {
   "cell_type": "code",
   "execution_count": 20,
   "id": "49805f55",
   "metadata": {},
   "outputs": [
    {
     "data": {
      "text/plain": [
       "(tensor(5.5000), tensor(5.5000))"
      ]
     },
     "execution_count": 20,
     "metadata": {},
     "output_type": "execute_result"
    }
   ],
   "source": [
    "import numpy\n",
    "A= torch.tensor(A.numpy().astype(numpy.float32))\n",
    "# 求平均值\n",
    "A.mean(), A.sum()/A.numel()"
   ]
  },
  {
   "cell_type": "code",
   "execution_count": 24,
   "id": "8feb2ed2",
   "metadata": {},
   "outputs": [
    {
     "data": {
      "text/plain": [
       "(tensor([4., 5., 6., 7.]), tensor([4., 5., 6., 7.]), torch.Size([3, 4]))"
      ]
     },
     "execution_count": 24,
     "metadata": {},
     "output_type": "execute_result"
    }
   ],
   "source": [
    "# 求每一列的平均值(除以行数)\n",
    "A.mean(axis=0), A.sum(axis=0)/A.shape[0], A.shape"
   ]
  },
  {
   "cell_type": "code",
   "execution_count": 25,
   "id": "b26ac994",
   "metadata": {},
   "outputs": [
    {
     "data": {
      "text/plain": [
       "tensor([[ 6.],\n",
       "        [22.],\n",
       "        [38.]])"
      ]
     },
     "execution_count": 25,
     "metadata": {},
     "output_type": "execute_result"
    }
   ],
   "source": [
    "# 获得每行求和后的列向量\n",
    "sum_A = A.sum(axis=1, keepdims=True)\n",
    "sum_A"
   ]
  },
  {
   "cell_type": "code",
   "execution_count": 26,
   "id": "692474ff",
   "metadata": {},
   "outputs": [
    {
     "data": {
      "text/plain": [
       "(tensor([[0.0000, 0.1667, 0.3333, 0.5000],\n",
       "         [0.1818, 0.2273, 0.2727, 0.3182],\n",
       "         [0.2105, 0.2368, 0.2632, 0.2895]]),\n",
       " torch.Size([3, 4]),\n",
       " torch.Size([3, 1]))"
      ]
     },
     "execution_count": 26,
     "metadata": {},
     "output_type": "execute_result"
    }
   ],
   "source": [
    "# 使用广播进行除法操作\n",
    "A/sum_A, A.shape, sum_A.shape"
   ]
  },
  {
   "cell_type": "code",
   "execution_count": 28,
   "id": "704ccaae",
   "metadata": {
    "scrolled": true
   },
   "outputs": [
    {
     "data": {
      "text/plain": [
       "tensor([[ 0.,  1.,  2.,  3.],\n",
       "        [ 4.,  6.,  8., 10.],\n",
       "        [12., 15., 18., 21.]])"
      ]
     },
     "execution_count": 28,
     "metadata": {},
     "output_type": "execute_result"
    }
   ],
   "source": [
    "# 第i行以上元素求和赋值第i行（累积总和）\n",
    "A.cumsum(axis= 0)"
   ]
  },
  {
   "cell_type": "code",
   "execution_count": 5,
   "id": "037ebe97",
   "metadata": {},
   "outputs": [
    {
     "name": "stdout",
     "output_type": "stream",
     "text": [
      "tensor([0., 1., 2., 3.]) tensor([1., 1., 1., 1.]) tensor(6.) tensor(6.)\n"
     ]
    }
   ],
   "source": [
    "# 向量的点积\n",
    "x= torch.arange(4, dtype=torch.float32)\n",
    "y= torch.ones(4, dtype=torch.float32)\n",
    "print(x, y, torch.dot(x, y), torch.sum(x* y))"
   ]
  },
  {
   "cell_type": "code",
   "execution_count": 38,
   "id": "bc151c5c",
   "metadata": {},
   "outputs": [
    {
     "name": "stdout",
     "output_type": "stream",
     "text": [
      "tensor([[ 0.,  1.,  2.,  3.],\n",
      "        [ 4.,  5.,  6.,  7.],\n",
      "        [ 8.,  9., 10., 11.]]) \n",
      " tensor([0., 1., 2., 3.])\n"
     ]
    },
    {
     "data": {
      "text/plain": [
       "(torch.Size([3, 4]), torch.Size([4]), tensor([14., 38., 62.]))"
      ]
     },
     "execution_count": 38,
     "metadata": {},
     "output_type": "execute_result"
    }
   ],
   "source": [
    "# Ax:在代码中使用张量表示矩阵-向量积，我们使用mv函数。 \n",
    "print(A, '\\n', x)\n",
    "A.shape, x.shape, torch.mv(A, x)"
   ]
  },
  {
   "cell_type": "code",
   "execution_count": 41,
   "id": "484dd345",
   "metadata": {},
   "outputs": [
    {
     "name": "stdout",
     "output_type": "stream",
     "text": [
      "torch.Size([3, 4]) torch.Size([4, 3])\n"
     ]
    },
    {
     "data": {
      "text/plain": [
       "(tensor([[ 0.,  1.,  2.,  3.],\n",
       "         [ 4.,  5.,  6.,  7.],\n",
       "         [ 8.,  9., 10., 11.]]),\n",
       " tensor([[ 0.,  4.,  8.],\n",
       "         [ 1.,  5.,  9.],\n",
       "         [ 2.,  6., 10.],\n",
       "         [ 3.,  7., 11.]]),\n",
       " tensor([[ 14.,  38.,  62.],\n",
       "         [ 38., 126., 214.],\n",
       "         [ 62., 214., 366.]]))"
      ]
     },
     "execution_count": 41,
     "metadata": {},
     "output_type": "execute_result"
    }
   ],
   "source": [
    "# AAT：矩阵乘法\n",
    "print(A.shape, A.T.shape)\n",
    "A, A.T, torch.mm(A, A.T)"
   ]
  },
  {
   "cell_type": "code",
   "execution_count": 7,
   "id": "1a7377e7",
   "metadata": {},
   "outputs": [
    {
     "name": "stdout",
     "output_type": "stream",
     "text": [
      "tensor(5.) tensor(2.)\n",
      "tensor([[2., 3.],\n",
      "        [4., 5.]])\n",
      "tensor([4.4721, 5.8310])\n"
     ]
    }
   ],
   "source": [
    "#||x||：向量的模，也可用来求矩阵的L2范数\n",
    "u= torch.tensor([3, 4], dtype= torch.float32)\n",
    "print(torch.norm(u), torch.norm(torch.ones((2, 2))) ) # norm返回标量张量\n",
    "# X= torch.arange(2.0, 6).reshape(2,2)\n",
    "X= torch.arange(2, 6).reshape(2,2).to(dtype=torch.float32)\n",
    "print(X)\n",
    "# 按列求L2范数：dim=0\n",
    "print(torch.norm(X, dim=0))"
   ]
  },
  {
   "cell_type": "code",
   "execution_count": 9,
   "id": "c0d238f6",
   "metadata": {},
   "outputs": [
    {
     "data": {
      "text/plain": [
       "tensor(6.)"
      ]
     },
     "execution_count": 9,
     "metadata": {},
     "output_type": "execute_result"
    }
   ],
   "source": [
    "torch.abs(x).sum()"
   ]
  },
  {
   "cell_type": "code",
   "execution_count": 64,
   "id": "cbb1f597",
   "metadata": {},
   "outputs": [
    {
     "name": "stdout",
     "output_type": "stream",
     "text": [
      "4 2\n",
      "torch.Size([2, 3, 4]) \n",
      " torch.Size([1, 3, 4]) \n",
      " torch.Size([2, 1, 4]) \n",
      " torch.Size([2, 3, 1])\n"
     ]
    }
   ],
   "source": [
    "# 三维向量的长度是最高维\n",
    "B= torch.arange(24).reshape((2, 3, 4))\n",
    "print(len(torch.arange(4)), len(B))\n",
    "print(B.shape, '\\n', B.sum(axis=0, keepdims=True).shape, '\\n', B.sum(axis=1, keepdims=True).shape, '\\n', B.sum(axis=2, keepdims=True).shape)"
   ]
  },
  {
   "cell_type": "code",
   "execution_count": 54,
   "id": "c3317d07",
   "metadata": {
    "scrolled": false
   },
   "outputs": [
    {
     "data": {
      "text/plain": [
       "(tensor([[ 0.,  1.,  2.,  3.],\n",
       "         [ 4.,  5.,  6.,  7.],\n",
       "         [ 8.,  9., 10., 11.]]),\n",
       " tensor([[ 6.],\n",
       "         [22.],\n",
       "         [38.]]),\n",
       " tensor([[0.0000, 0.1667, 0.3333, 0.5000],\n",
       "         [0.1818, 0.2273, 0.2727, 0.3182],\n",
       "         [0.2105, 0.2368, 0.2632, 0.2895]]))"
      ]
     },
     "execution_count": 54,
     "metadata": {},
     "output_type": "execute_result"
    }
   ],
   "source": [
    "A, A.sum(axis= 1, keepdims= True), A/A.sum(axis= 1, keepdims= True)"
   ]
  },
  {
   "cell_type": "code",
   "execution_count": 10,
   "id": "995cd99d",
   "metadata": {
    "scrolled": true
   },
   "outputs": [
    {
     "name": "stdout",
     "output_type": "stream",
     "text": [
      "[[[9. 9. 8. 1.]\n",
      "  [2. 2. 3. 9.]\n",
      "  [4. 1. 3. 2.]]\n",
      "\n",
      " [[4. 5. 9. 6.]\n",
      "  [5. 6. 5. 7.]\n",
      "  [7. 6. 5. 1.]]]\n",
      "默认 L2 范数 (所有元素): 27.549955\n",
      "[[10.049875  9.273619  9.055386  9.273619]\n",
      " [ 9.486833  9.848858 11.445523  9.273619]]\n",
      "沿着轴0计算的范数结果: \n",
      " [[ 9.848858  10.29563   12.0415945  6.0827627]\n",
      " [ 5.3851647  6.3245554  5.8309517 11.401754 ]\n",
      " [ 8.062258   6.0827627  5.8309517  2.236068 ]] (3, 4)\n",
      "沿着轴1计算的范数结果: (2, 4)\n",
      "沿着轴2计算的范数结果: (2, 3)\n"
     ]
    }
   ],
   "source": [
    "'''torch.norm(C)求整个矩阵的L2范数，想要按维度计算L2范数，也可以torch.norm(C, dim=0)'''\n",
    "import numpy as np\n",
    "\n",
    "# 创建一个形状为 (2, 3, 4) 的三维张量\n",
    "C = np.random.randint(1, 10, (2, 3, 4)).astype(np.float32)\n",
    "print(C)\n",
    "\n",
    "\n",
    "# 计算默认的 L2 范数，相当于计算所有元素的平方和然后再开根号\n",
    "norm_all = np.linalg.norm(C)\n",
    "print(\"默认 L2 范数 (所有元素):\", norm_all)\n",
    "\n",
    "# 沿着不同轴计算范数\n",
    "norm_axis0 = np.linalg.norm(C, axis=0)\n",
    "norm_axis1 = np.linalg.norm(C, axis=1)\n",
    "norm_axis2 = np.linalg.norm(C, axis=2)\n",
    "\n",
    "print(norm_axis1)\n",
    "print(\"沿着轴0计算的范数结果:\", '\\n', norm_axis0, norm_axis0.shape)  # 形状为 (3, 4)\n",
    "print(\"沿着轴1计算的范数结果:\", norm_axis1.shape)  # 形状为 (2, 4)\n",
    "print(\"沿着轴2计算的范数结果:\", norm_axis2.shape)  # 形状为 (2, 3)\n"
   ]
  },
  {
   "cell_type": "code",
   "execution_count": null,
   "id": "8df22764",
   "metadata": {},
   "outputs": [],
   "source": []
  }
 ],
 "metadata": {
  "kernelspec": {
   "display_name": "Test01VirtualEnv",
   "language": "python",
   "name": "test01virtualenv"
  },
  "language_info": {
   "codemirror_mode": {
    "name": "ipython",
    "version": 3
   },
   "file_extension": ".py",
   "mimetype": "text/x-python",
   "name": "python",
   "nbconvert_exporter": "python",
   "pygments_lexer": "ipython3",
   "version": "3.9.19"
  }
 },
 "nbformat": 4,
 "nbformat_minor": 5
}
