{
 "cells": [
  {
   "cell_type": "code",
   "execution_count": 1,
   "id": "4654d7a4",
   "metadata": {},
   "outputs": [
    {
     "data": {
      "text/plain": [
       "tensor([0., 1., 2., 3.])"
      ]
     },
     "execution_count": 1,
     "metadata": {},
     "output_type": "execute_result"
    }
   ],
   "source": [
    "import torch\n",
    "x= torch.arange(4.0)\n",
    "x"
   ]
  },
  {
   "cell_type": "code",
   "execution_count": 2,
   "id": "c6924695",
   "metadata": {},
   "outputs": [
    {
     "name": "stdout",
     "output_type": "stream",
     "text": [
      "None\n"
     ]
    }
   ],
   "source": [
    "# 等价于x=torch.arange(4.0,requires_grad=True),通过设置 requires_grad=True，后面求y关于x的梯度时用到。\n",
    "x.requires_grad_(True)\n",
    "print(x.grad)"
   ]
  },
  {
   "cell_type": "code",
   "execution_count": 3,
   "id": "6deca94c",
   "metadata": {},
   "outputs": [
    {
     "data": {
      "text/plain": [
       "tensor(28., grad_fn=<MulBackward0>)"
      ]
     },
     "execution_count": 3,
     "metadata": {},
     "output_type": "execute_result"
    }
   ],
   "source": [
    "# 向量的点积（内积等于x**2）\n",
    "y = 2 * torch.dot(x, x)\n",
    "y"
   ]
  },
  {
   "cell_type": "code",
   "execution_count": 4,
   "id": "78521743",
   "metadata": {},
   "outputs": [],
   "source": [
    "# 链式求导法则的求解方法：反向传递\n",
    "# 正向传递：x->k->h->y,求出y的值。\n",
    "# 反向传递：求解导数dy/dx的过程是逆向的，dy/dh*dh/dk*dk/dx.\n",
    "# 正向就是求复合函数的值，反向就是求偏导数和梯度"
   ]
  },
  {
   "cell_type": "code",
   "execution_count": 5,
   "id": "a240bc89",
   "metadata": {},
   "outputs": [
    {
     "data": {
      "text/plain": [
       "tensor([ 0.,  4.,  8., 12.])"
      ]
     },
     "execution_count": 5,
     "metadata": {},
     "output_type": "execute_result"
    }
   ],
   "source": [
    "# 反向传播计算梯度！！！\n",
    "y.backward()\n",
    "x.grad"
   ]
  },
  {
   "cell_type": "code",
   "execution_count": 6,
   "id": "5c415210",
   "metadata": {},
   "outputs": [
    {
     "data": {
      "text/plain": [
       "tensor([True, True, True, True])"
      ]
     },
     "execution_count": 6,
     "metadata": {},
     "output_type": "execute_result"
    }
   ],
   "source": [
    "# dy/dx是标量/向量，结果是向量。\n",
    "x.grad== 4*x"
   ]
  },
  {
   "cell_type": "code",
   "execution_count": 7,
   "id": "eed338a1",
   "metadata": {},
   "outputs": [
    {
     "data": {
      "text/plain": [
       "tensor([1., 1., 1., 1.])"
      ]
     },
     "execution_count": 7,
     "metadata": {},
     "output_type": "execute_result"
    }
   ],
   "source": [
    "# 在默认情况下，PyTorch会累积梯度，我们需要清除之前的值\n",
    "x.grad.zero_()\n",
    "y = x.sum()\n",
    "y.backward()\n",
    "x.grad"
   ]
  },
  {
   "cell_type": "code",
   "execution_count": 8,
   "id": "fdb3f630",
   "metadata": {},
   "outputs": [
    {
     "data": {
      "text/plain": [
       "tensor([0., 2., 4., 6.])"
      ]
     },
     "execution_count": 8,
     "metadata": {},
     "output_type": "execute_result"
    }
   ],
   "source": [
    "# *：按位乘法\n",
    "# 对非标量调用backward需要传入一个gradient参数，该参数指定微分函数关于self的梯度。\n",
    "# 本例只想求偏导数的和，所以传递一个1的梯度是合适的\n",
    "x.grad.zero_()\n",
    "y = x * x\n",
    "'''等价于y.backward(torch.ones(len(x)))：是一种用于计算非标量张量 y 相对于张量 x 的梯度的方法。\n",
    "   它对 y 的每个元素进行加权求和，然后执行反向传播，最终得到 y 相对于 x 的梯度值。'''\n",
    "y.sum().backward()\n",
    "x.grad"
   ]
  },
  {
   "cell_type": "code",
   "execution_count": 13,
   "id": "723077a3",
   "metadata": {},
   "outputs": [
    {
     "data": {
      "text/plain": [
       "tensor([True, True, True, True])"
      ]
     },
     "execution_count": 13,
     "metadata": {},
     "output_type": "execute_result"
    }
   ],
   "source": [
    "x.grad.zero_()\n",
    "y = x * x\n",
    "# 固定y作为常数\n",
    "u = y.detach()\n",
    "z = u * x\n",
    "\n",
    "z.sum().backward()\n",
    "x.grad == u"
   ]
  },
  {
   "cell_type": "code",
   "execution_count": 14,
   "id": "f71fe90f",
   "metadata": {},
   "outputs": [
    {
     "data": {
      "text/plain": [
       "tensor([True, True, True, True])"
      ]
     },
     "execution_count": 14,
     "metadata": {},
     "output_type": "execute_result"
    }
   ],
   "source": [
    "x.grad.zero_()\n",
    "y.sum().backward()\n",
    "x.grad == 2 * x"
   ]
  },
  {
   "cell_type": "code",
   "execution_count": 29,
   "id": "b6d79bef",
   "metadata": {},
   "outputs": [],
   "source": [
    "def f(a):\n",
    "    b = a\n",
    "    while b.norm() < 1000:\n",
    "        '''b的L2范数<1000, b的值等于a*(2**n)即k*a'''\n",
    "        b = b * 2\n",
    "    if b.sum() > 0:\n",
    "        c = b\n",
    "    else:\n",
    "        c = 100 * b\n",
    "    return c"
   ]
  },
  {
   "cell_type": "code",
   "execution_count": 35,
   "id": "9a5c1f69",
   "metadata": {},
   "outputs": [
    {
     "name": "stdout",
     "output_type": "stream",
     "text": [
      "tensor([2., 3.], requires_grad=True) tensor([1024., 1536.], grad_fn=<MulBackward0>) tensor([512., 512.])\n"
     ]
    },
    {
     "data": {
      "text/plain": [
       "tensor([True, True])"
      ]
     },
     "execution_count": 35,
     "metadata": {},
     "output_type": "execute_result"
    }
   ],
   "source": [
    "# torch.randn:生成服从标准正态分布的随机数张量。\n",
    "# size=():生成的张量的形状为一个空元组 ()，这表示生成一个标量（scalar）\n",
    "a = torch.tensor([2.0, 3])\n",
    "a.requires_grad_(True)\n",
    "d = f(a)\n",
    "d.sum().backward()\n",
    "print(a, d, a.grad)\n",
    "a.grad == d / a"
   ]
  },
  {
   "cell_type": "code",
   "execution_count": 36,
   "id": "26c809a4",
   "metadata": {},
   "outputs": [
    {
     "data": {
      "text/plain": [
       "'深度学习框架可以自动计算导数：我们首先将梯度附加到想要对其计算偏导数的变量上，然后记录目标值的计算，\\n   执行它的反向传播函数，并访问得到的梯度。'"
      ]
     },
     "execution_count": 36,
     "metadata": {},
     "output_type": "execute_result"
    }
   ],
   "source": [
    "'''深度学习框架可以自动计算导数：我们首先将梯度附加到想要对其计算偏导数的变量上，然后记录目标值的计算，\n",
    "   执行它的反向传播函数，并访问得到的梯度。'''"
   ]
  },
  {
   "cell_type": "code",
   "execution_count": 80,
   "id": "46920e42",
   "metadata": {
    "scrolled": false
   },
   "outputs": [
    {
     "data": {
      "image/png": "[encoded data removed]",
      "text/plain": [
       "<Figure size 640x480 with 1 Axes>"
      ]
     },
     "metadata": {},
     "output_type": "display_data"
    }
   ],
   "source": [
    "'''%matplotlib inline:这是一个 IPython 魔法命令（IPython magic command），用于在 Jupyter Notebook 或 IPython 环境中\n",
    "   显示 matplotlib 图形，并将其嵌入到 notebook 中的单元格中。'''\n",
    "%matplotlib inline\n",
    "# 类似matlab绘图接口\n",
    "import matplotlib.pylab as plt\n",
    "# 自定义刻度格式& 设置主刻度的间隔为指定的倍数\n",
    "from matplotlib.ticker import FuncFormatter, MultipleLocator\n",
    "import numpy as np\n",
    "import torch\n",
    "import inspect\n",
    "\n",
    "# f：表示整个图形对象，可以用于设置图形的全局属性。\n",
    "# ax：表示子图对象，可以用于设置子图的属性、添加绘图元素等操作。\n",
    "f, ax = plt.subplots(1)\n",
    "# print(inspect.getsource(plt.subplots)) # 查看源码\n",
    "\n",
    "# 创建输入变量 x1，并设置需要计算梯度\n",
    "'''np.linspace:生成一个等间距的包含 100 个点的数组 x，该数组范围从 -3π 到 3π'''\n",
    "x = np.linspace(-3*np.pi, 3*np.pi, 100)\n",
    "x1 = torch.tensor(x, requires_grad=True)\n",
    "# 计算 sin(x1) 的值并对其求和\n",
    "y1 = torch.sin(x1)\n",
    "y1.sum().backward()  # 对 y1 求和的结果进行反向传播，计算梯度\n",
    "\n",
    "# 绘制 sin(x) 曲线\n",
    "ax.plot(x, np.sin(x), label='sin(x)')\n",
    "# 绘制 sin(x) 在 x1 处的梯度\n",
    "ax.scatter(x, x1.grad.numpy(), label=\"gradient of sin(x)\")\n",
    "\n",
    "ax.set_title('sin(x) and cos(x)')\n",
    "# 添加图例(sin(x),gradient of sin(x)的label标记位置)\n",
    "ax.legend(loc='upper right', shadow=True)\n",
    "\n",
    "# 设置 x 轴刻度格式为 pi 的倍数(结果xπ，.g “一般”格式化)\n",
    "ax.xaxis.set_major_formatter(FuncFormatter(\n",
    "    lambda val, pos: '{:.0g}$\\pi$'.format(val / np.pi) if val != 0 else '0'\n",
    "))\n",
    "\n",
    "# 设置 x 轴主刻度为 pi 的倍数\n",
    "ax.xaxis.set_major_locator(MultipleLocator(base=np.pi))\n",
    "\n",
    "# 显示图形\n",
    "plt.show()"
   ]
  },
  {
   "cell_type": "code",
   "execution_count": 102,
   "id": "ca2b89a5",
   "metadata": {},
   "outputs": [
    {
     "data": {
      "image/png": "[encoded data removed]",
      "text/plain": [
       "<Figure size 640x480 with 2 Axes>"
      ]
     },
     "metadata": {},
     "output_type": "display_data"
    }
   ],
   "source": [
    "%matplotlib inline\n",
    "import matplotlib.pylab as plt\n",
    "import numpy as np\n",
    "import torch\n",
    "\n",
    "# 绘制e^x函数\n",
    "x= np.arange(-2, 4, 0.1)\n",
    "x1 = torch.tensor(x, requires_grad=True)\n",
    "y1 = torch.exp(x1)\n",
    "# 计算相对于 x 的梯度\n",
    "y1.sum().backward()\n",
    "\n",
    "fig, (ax1, ax2)= plt.subplots(1, 2, sharey= True)\n",
    "# 此处不能重复调用x1,y1，而应该用x和np.exp代替，或者用y.detach()定住，否则报错。\n",
    "ax1.plot(x, np.exp(x), label='y=e^x')\n",
    "ax2.scatter(x, x1.grad.numpy(), label= 'gradient of e^x')\n",
    "ax1.legend(shadow=True)\n",
    "ax2.legend(shadow=True)\n",
    "\n",
    "plt.show()"
   ]
  },
  {
   "cell_type": "code",
   "execution_count": null,
   "id": "fc3e8243",
   "metadata": {},
   "outputs": [],
   "source": []
  }
 ],
 "metadata": {
  "kernelspec": {
   "display_name": "Test01VirtualEnv",
   "language": "python",
   "name": "test01virtualenv"
  },
  "language_info": {
   "codemirror_mode": {
    "name": "ipython",
    "version": 3
   },
   "file_extension": ".py",
   "mimetype": "text/x-python",
   "name": "python",
   "nbconvert_exporter": "python",
   "pygments_lexer": "ipython3",
   "version": "3.9.19"
  }
 },
 "nbformat": 4,
 "nbformat_minor": 5
}
