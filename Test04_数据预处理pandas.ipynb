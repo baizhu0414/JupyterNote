{
 "cells": [
  {
   "cell_type": "code",
   "execution_count": 1,
   "id": "cb1dd12e",
   "metadata": {},
   "outputs": [],
   "source": [
    "import os\n",
    "\n",
    "os.makedirs(os.path.join('..', 'data'), exist_ok=True)\n",
    "data_file = os.path.join('..', 'data', 'house_tiny.csv')\n",
    "with open(data_file, 'w') as f:\n",
    "    f.write('NumRooms,Alley,Price\\n')  # 列名\n",
    "    f.write('NA,Pave,127500\\n')  # 每行表示一个数据样本\n",
    "    f.write('2,NA,106000\\n')\n",
    "    f.write('4,NA,178100\\n')\n",
    "    f.write('NA,NA,140000\\n')"
   ]
  },
  {
   "cell_type": "code",
   "execution_count": 5,
   "id": "3e9b35d9",
   "metadata": {
    "scrolled": true
   },
   "outputs": [
    {
     "name": "stdout",
     "output_type": "stream",
     "text": [
      "   NumRooms Alley   Price\n",
      "0       NaN  Pave  127500\n",
      "1       2.0   NaN  106000\n",
      "2       4.0   NaN  178100\n",
      "3       NaN   NaN  140000\n"
     ]
    }
   ],
   "source": [
    "\n",
    "# 如果没有安装pandas，只需取消对以下行的注释来安装pandas\n",
    "# !pip install pandas\n",
    "import pandas as pd\n",
    "import os\n",
    "\n",
    "data_file = os.path.join('..', 'data', 'house_tiny.csv')\n",
    "data = pd.read_csv(data_file)\n",
    "print(data)"
   ]
  },
  {
   "cell_type": "code",
   "execution_count": 6,
   "id": "001c76da",
   "metadata": {
    "scrolled": false
   },
   "outputs": [
    {
     "name": "stdout",
     "output_type": "stream",
     "text": [
      "   NumRooms Alley\n",
      "0       3.0  Pave\n",
      "1       2.0   NaN\n",
      "2       4.0   NaN\n",
      "3       3.0   NaN\n"
     ]
    }
   ],
   "source": [
    "# pip install cls==0.17.6，其他版本会导致inputs.mean不能直接用，需要过滤非数字列。\n",
    "inputs, outputs = data.iloc[:, 0:2], data.iloc[:, 2]\n",
    "inputs = inputs.fillna(inputs.mean())\n",
    "print(inputs)"
   ]
  },
  {
   "cell_type": "code",
   "execution_count": 7,
   "id": "7c10e1ae",
   "metadata": {},
   "outputs": [
    {
     "name": "stdout",
     "output_type": "stream",
     "text": [
      "   NumRooms  Alley_Pave  Alley_nan\n",
      "0       3.0           1          0\n",
      "1       2.0           0          1\n",
      "2       4.0           0          1\n",
      "3       3.0           0          1\n"
     ]
    }
   ],
   "source": [
    "# 根据列的值拆分列\n",
    "# 对于inputs中的类别值或离散值，我们将“NaN”视为一个类别。 \n",
    "# 由于“巷子类型”（“Alley”）列只接受两种类型的类别值“Pave”和“NaN”， pandas可以自动将此列转换为两列“Alley_Pave”和“Alley_nan”。\n",
    "inputs = pd.get_dummies(inputs, dummy_na=True)\n",
    "print(inputs)"
   ]
  },
  {
   "cell_type": "code",
   "execution_count": 14,
   "id": "9c324c29",
   "metadata": {},
   "outputs": [
    {
     "data": {
      "text/plain": [
       "(tensor([[3., 1., 0.],\n",
       "         [2., 0., 1.],\n",
       "         [4., 0., 1.],\n",
       "         [3., 0., 1.]], dtype=torch.float64),\n",
       " tensor([127500., 106000., 178100., 140000.], dtype=torch.float64))"
      ]
     },
     "execution_count": 14,
     "metadata": {},
     "output_type": "execute_result"
    }
   ],
   "source": [
    "import torch\n",
    "# 将预处理后的数据集转换为张量格式。DataFrame->Numpy->tensor(PyTorch)\n",
    "X = torch.tensor(inputs.to_numpy(dtype=float))\n",
    "y = torch.tensor(outputs.to_numpy(dtype=float))\n",
    "X, y"
   ]
  },
  {
   "cell_type": "code",
   "execution_count": 8,
   "id": "2344a21a",
   "metadata": {},
   "outputs": [],
   "source": [
    "def dropNaNumMaxCol(dataCSV):\n",
    "    '''DataFrames类型参数，删除nan最多的列'''\n",
    "    num= dataCSV.isna().sum() # isna返回表格，sum返回pandas Series类型，sum(axis=0)统计每一列中缺失值的数量\n",
    "#     num.idxmax(): 这个方法用于找出 Series 中值最大的索引（即具有最大值的列名）\n",
    "    print(num, num.shape)\n",
    "    numDict= num.to_dict()\n",
    "    print(numDict)\n",
    "    maxKey =max(numDict,key=numDict.get) #取字典中最大值的键\n",
    "    del dataCSV[maxKey] #删除缺失值最多的列（在原数据上操作）\n",
    "    return dataCSV"
   ]
  },
  {
   "cell_type": "code",
   "execution_count": 9,
   "id": "48bbbba4",
   "metadata": {
    "scrolled": true
   },
   "outputs": [
    {
     "name": "stdout",
     "output_type": "stream",
     "text": [
      "NumRooms    2\n",
      "Alley       3\n",
      "Price       0\n",
      "dtype: int64 (3,)\n",
      "{'NumRooms': 2, 'Alley': 3, 'Price': 0}\n",
      "   NumRooms   Price\n",
      "0       NaN  127500\n",
      "1       2.0  106000\n",
      "2       4.0  178100\n",
      "3       NaN  140000\n"
     ]
    }
   ],
   "source": [
    "dropNaNumMaxCol(data)\n",
    "print(data)"
   ]
  },
  {
   "cell_type": "code",
   "execution_count": 32,
   "id": "9ea011db",
   "metadata": {},
   "outputs": [
    {
     "data": {
      "text/plain": [
       "'max():key (可选): 用于指定一个函数，该函数将应用于 iterable 的每个元素，然后根据函数的返回值进行比较找出最大值。\\n   numDict.get:返回字典中指定键的值；max() 函数会根据 key 函数的返回值来确定最大元素。'"
      ]
     },
     "execution_count": 32,
     "metadata": {},
     "output_type": "execute_result"
    }
   ],
   "source": [
    "'''isna():返回一个布尔型的 DataFrame，缺失值位置为 True。'''\n",
    "\n",
    "'''sum():对布尔型 DataFrame 进行求和，得到每列缺失值的数量。返回的结果是一个 pandas Series列向量，索引是 dataCSV 的列名，\n",
    "   值是该列中缺失值的数量。'''\n",
    "\n",
    "'''to_dict():这一步将Series转换为字典类型,字典的键是Series的索引,也即 dataCSV 的列名，值是对应列中缺失值的数量。'''\n",
    "\n",
    "'''max():key (可选): 用于指定一个函数，该函数将应用于 iterable 的每个元素，然后根据函数的返回值进行比较找出最大值。\n",
    "   numDict.get:返回字典中指定键的值；max() 函数会根据 key 函数的返回值来确定最大元素。'''\n"
   ]
  },
  {
   "cell_type": "code",
   "execution_count": 41,
   "id": "4cea4be1",
   "metadata": {},
   "outputs": [],
   "source": [
    "def dropNaNumMaxCol2(data):\n",
    "    count = 0\n",
    "    count_max = 0\n",
    "    labels = ['NumRooms','Alley','Price']\n",
    "    for label in labels:\n",
    "        count = data[label].isna().sum()\n",
    "        if count > count_max:\n",
    "            count_max = count\n",
    "            flag = label\n",
    "#     data_new = data.drop(flag,axis=1)\n",
    "    data_new = data.drop([flag],axis=1) # 创建了一个新的 DataFrame 对象\n",
    "    return data_new"
   ]
  },
  {
   "cell_type": "code",
   "execution_count": 42,
   "id": "7204f14c",
   "metadata": {
    "scrolled": true
   },
   "outputs": [
    {
     "name": "stdout",
     "output_type": "stream",
     "text": [
      "   NumRooms   Price\n",
      "0       NaN  127500\n",
      "1       2.0  106000\n",
      "2       4.0  178100\n",
      "3       NaN  140000\n",
      "   NumRooms Alley   Price\n",
      "0       NaN  Pave  127500\n",
      "1       2.0   NaN  106000\n",
      "2       4.0   NaN  178100\n",
      "3       NaN   NaN  140000\n"
     ]
    }
   ],
   "source": [
    "print(dropNaNumMaxCol2(data))\n",
    "print(data)"
   ]
  },
  {
   "cell_type": "code",
   "execution_count": null,
   "id": "826faaca",
   "metadata": {},
   "outputs": [],
   "source": [
    "'''Pandas 设计成可以对整个 DataFrame 或其部分（列、行等）进行灵活的操作，这种设计使得数据处理更加方便和高效。\n",
    "   通过 isna() 方法，你可以快速检查整个 DataFrame 或 特定列 中缺失值的情况，从而进行进一步的数据清洗、填充或分析工作。'''"
   ]
  },
  {
   "cell_type": "code",
   "execution_count": 49,
   "id": "829da996",
   "metadata": {},
   "outputs": [
    {
     "name": "stdout",
     "output_type": "stream",
     "text": [
      "   NumRooms  Alley  Price\n",
      "0      True  False  False\n",
      "1     False   True  False\n",
      "2     False   True  False\n",
      "3      True   True  False (4, 3) 3 \n",
      "\n",
      "    NumRooms Alley   Price\n",
      "0       NaN  Pave  127500\n",
      "1       2.0   NaN  106000\n",
      "2       4.0   NaN  178100\n",
      "3       NaN   NaN  140000\n",
      "   NumRooms   Price\n",
      "0       NaN  127500\n",
      "1       2.0  106000\n",
      "2       4.0  178100\n",
      "3       NaN  140000\n"
     ]
    }
   ],
   "source": [
    "print(data.isna(), data.isna().shape, max(data.isna().sum()), '\\n\\n', data)\n",
    "'''一个语句替代上面的函数'''\n",
    "'''dropna的 thresh 参数表示每列中至少需要存在的非缺失值数量，保留>=thresh个非缺失值的列及保留非缺失值多的列，删除了缺失值过多的列'''\n",
    "'''data.count() 是 Pandas 中用于统计 DataFrame 或 Series 中非缺失值（非 NaN 值）的数量的方法。此处统计DataFrame则返回Series。'''\n",
    "'''下面语句保留了非缺失值数量>=(最小非缺失值数量+1)的列，删除了其他列。即保留了除最少非缺失值列外的所有列，即删除了最少非缺失值的列，\n",
    "   即删除了最多缺失值NaN的列。'''\n",
    "print(data.dropna(axis=1, thresh=(data.count().min()+1) ) )"
   ]
  },
  {
   "cell_type": "code",
   "execution_count": 58,
   "id": "0d9c3b80",
   "metadata": {
    "scrolled": true
   },
   "outputs": [
    {
     "name": "stdout",
     "output_type": "stream",
     "text": [
      "NumRooms    2\n",
      "Alley       1\n",
      "Price       4\n",
      "dtype: int64 \n",
      " Price\n",
      "   NumRooms Alley\n",
      "0       NaN  Pave\n",
      "1       2.0   NaN\n",
      "2       4.0   NaN\n",
      "3       NaN   NaN\n"
     ]
    }
   ],
   "source": [
    "print(data.count(), '\\n', data.count().idxmax())\n",
    "'''一个语句替代上面的函数'''\n",
    "'''DataFrame.count() 不会统计每行的非缺失值数量，它只针对每列进行统计。\n",
    "   如果你想要在原始 DataFrame 上进行修改并保持该修改，可以使用 inplace=True 参数，\n",
    "   并且两者返回值不同。True则返回None,False则返回修改后的值而不会修改原数据。'''\n",
    "print(data.drop(data.count().idxmax(), axis=1, inplace=False))"
   ]
  },
  {
   "cell_type": "code",
   "execution_count": null,
   "id": "83f17a6e",
   "metadata": {},
   "outputs": [],
   "source": [
    "'''小结：\n",
    "        - 删除数据：del,drop,dropna；\n",
    "        - 查找NaN最多的列：data.count().idxmax()，thresh=(data.count().min()+1)，data[label].isna().sum()，data.isna().sum()；\n",
    "        - axis=0行统计，axis=1列统计；\n",
    "        - 可迭代对象Dictionary：max(numDict,key=numDict.get)'''"
   ]
  },
  {
   "cell_type": "code",
   "execution_count": null,
   "id": "df6ae1f8",
   "metadata": {},
   "outputs": [],
   "source": []
  }
 ],
 "metadata": {
  "kernelspec": {
   "display_name": "Test01VirtualEnv",
   "language": "python",
   "name": "test01virtualenv"
  },
  "language_info": {
   "codemirror_mode": {
    "name": "ipython",
    "version": 3
   },
   "file_extension": ".py",
   "mimetype": "text/x-python",
   "name": "python",
   "nbconvert_exporter": "python",
   "pygments_lexer": "ipython3",
   "version": "3.9.19"
  }
 },
 "nbformat": 4,
 "nbformat_minor": 5
}
