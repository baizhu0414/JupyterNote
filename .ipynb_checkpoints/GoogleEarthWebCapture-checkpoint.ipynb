{
 "cells": [
  {
   "cell_type": "code",
   "execution_count": 1,
   "id": "8817a1f3",
   "metadata": {},
   "outputs": [],
   "source": [
    "# 尝试使用脚本，操作Google网页"
   ]
  },
  {
   "cell_type": "code",
   "execution_count": 32,
   "id": "6fc6955b",
   "metadata": {},
   "outputs": [],
   "source": [
    "from selenium import webdriver\n",
    "from selenium.webdriver.common.by import By\n",
    "from selenium.webdriver.common.keys import Keys\n",
    "from selenium.webdriver.support.ui import WebDriverWait\n",
    "from selenium.webdriver.support import expected_conditions as EC\n",
    "import time\n",
    "\n",
    "from selenium.common.exceptions import TimeoutException"
   ]
  },
  {
   "cell_type": "code",
   "execution_count": 33,
   "id": "d1f5892b",
   "metadata": {},
   "outputs": [],
   "source": [
    "driver = webdriver.Chrome()\n",
    "driver.get(\"https://earth.google.com/\")\n",
    "\n",
    "lat = 30.14682631\n",
    "lon = 114.3440979"
   ]
  },
  {
   "cell_type": "code",
   "execution_count": 34,
   "id": "35bc7c90",
   "metadata": {},
   "outputs": [
    {
     "name": "stdout",
     "output_type": "stream",
     "text": [
      "click placeholder.\n",
      "button clicked.\n",
      "search finish. (30.14682631, 114.3440979)\n"
     ]
    }
   ],
   "source": [
    "# 点击包装的 flt-semantics 元素以触发下拉框（发现首次刷新界面不会出现此元素）\n",
    "try:\n",
    "    search_button = WebDriverWait(driver, 20).until(\n",
    "        EC.element_to_be_clickable((By.CSS_SELECTOR, 'flt-semantics[role=\"button\"]'))\n",
    "    )\n",
    "    search_button.click()\n",
    "    print(\"button clicked.\")\n",
    "except TimeoutException:\n",
    "    # 使用 JavaScript 点击搜索框可能出现的位置\n",
    "    driver.execute_script(\"document.querySelector('flt-semantics-placeholder').click();\")\n",
    "    print(\"click placeholder.\")\n",
    "    search_button = WebDriverWait(driver, 20).until(\n",
    "        EC.element_to_be_clickable((By.CSS_SELECTOR, 'flt-semantics[role=\"button\"]'))\n",
    "    )\n",
    "    search_button.click()\n",
    "    print(\"button clicked.\")\n",
    "\n",
    "# 循环判断下拉框是否出现，时间间隔为2秒\n",
    "dropdown_visible = False\n",
    "while not dropdown_visible:\n",
    "    try:\n",
    "        dropdown = WebDriverWait(driver, 2).until(\n",
    "            EC.presence_of_element_located((By.CSS_SELECTOR, 'flt-semantics[aria-label=\"搜索建议\"]'))\n",
    "        )\n",
    "        dropdown_visible = True  # 如果找到了下拉框元素，退出循环\n",
    "    except TimeoutException:\n",
    "        print(\"下拉框未出现，等待2秒再尝试...\")\n",
    "        time.sleep(2)  # 等待2秒再检查\n",
    "\n",
    "# 找到并点击实际的输入框\n",
    "real_input = WebDriverWait(driver, 30).until(\n",
    "#     EC.element_to_be_clickable((By.CSS_SELECTOR, 'input[aria-label=\"搜索 Google 地球\"]'))\n",
    "    EC.element_to_be_clickable((By.TAG_NAME, 'input'))\n",
    ")\n",
    "# real_input.click() # 被遮挡住了\n",
    "driver.execute_script(\"arguments[0].click();\", real_input)\n",
    "\n",
    "# 输入经纬度并触发搜索\n",
    "real_input.send_keys(str(lat) + \",\"+ str(lon))\n",
    "time.sleep(1)\n",
    "real_input.send_keys(Keys.ENTER)\n",
    "print(f\"search finish. ({lat}, {lon})\")\n"
   ]
  },
  {
   "cell_type": "code",
   "execution_count": 35,
   "id": "6965550c",
   "metadata": {},
   "outputs": [
    {
     "name": "stdout",
     "output_type": "stream",
     "text": [
      "找到包含 'google_logo' 的元素，aria-label: 加载当前卫星图像的进度\n",
      "google_logo\n",
      "100%\n",
      "2022/7/24\n",
      "30°08'48\"N 114°20'40\"E\n",
      "40 米 100%\n",
      "地图加载结束。\n"
     ]
    }
   ],
   "source": [
    "# 等待地图加载完成\n",
    "try:\n",
    "    element_found = False\n",
    "\n",
    "    while not element_found:\n",
    "        # 查找所有 flt-semantics 元素\n",
    "        elements = driver.find_elements(By.TAG_NAME, 'flt-semantics')\n",
    "\n",
    "        for element in elements:\n",
    "            aria_label = element.get_attribute('aria-label')\n",
    "            if aria_label and \"google_logo\" in aria_label:\n",
    "                print(f\"找到包含 'google_logo' 的元素，aria-label: {aria_label}\")\n",
    "                if \"100%\" in aria_label:\n",
    "                    print(\"地图加载结束。\")\n",
    "                    element_found = True\n",
    "                    break\n",
    "\n",
    "        if not element_found:\n",
    "            print(\"等待地图加载...\")\n",
    "            time.sleep(2)\n",
    "\n",
    "except Exception as e:\n",
    "    print(f\"发生错误: {e}\")"
   ]
  },
  {
   "cell_type": "code",
   "execution_count": 36,
   "id": "a8c757c9",
   "metadata": {},
   "outputs": [
    {
     "name": "stdout",
     "output_type": "stream",
     "text": [
      "元素1已点击\n",
      "元素2已点击\n",
      "元素3已点击\n"
     ]
    }
   ],
   "source": [
    "# 1. 关闭搜索后弹出的提示框\n",
    "try:\n",
    "    close_alert = WebDriverWait(driver, 10).until(\n",
    "        EC.element_to_be_clickable((By.XPATH, '//flt-semantics[text()=\"关闭\"]'))\n",
    "    )\n",
    "#     flt_semantics_element.click() # 被遮挡住了\n",
    "    driver.execute_script(\"arguments[0].click();\", close_alert)\n",
    "    print(\"元素1已点击\")\n",
    "\n",
    "except TimeoutException:\n",
    "    print(\"未能找到具有特定文本的元素1或元素1不可点击\")\n",
    "    \n",
    "# 2. 关闭菜单栏\n",
    "try:\n",
    "    flt_semantics_element = WebDriverWait(driver, 10).until(\n",
    "        EC.element_to_be_clickable((By.XPATH, '//flt-semantics[@aria-label=\"隐藏菜单栏\"]'))\n",
    "    )\n",
    "    \n",
    "    # 点击元素\n",
    "    flt_semantics_element.click()\n",
    "    print(\"元素2已点击\")\n",
    "\n",
    "except TimeoutException:\n",
    "    print(\"未能找到具有特定 aria-label 的元素2或元素2不可点击\")\n",
    "    \n",
    "# 3. 关闭（左侧）面板\n",
    "try:\n",
    "    close_board = WebDriverWait(driver, 10).until(\n",
    "        EC.element_to_be_clickable((By.XPATH, '//flt-semantics[text()=\"收起面板\"]'))\n",
    "    )\n",
    "#     flt_semantics_element.click() # 被遮挡住了\n",
    "    driver.execute_script(\"arguments[0].click();\", close_board)\n",
    "    print(\"元素3已点击\")\n",
    "\n",
    "except TimeoutException:\n",
    "    print(\"未能找到具有特定文本的元素3或元素3不可点击\")\n",
    "    \n",
    "# 4. 发送 F11 键，网页全屏\n",
    "driver.find_element(By.TAG_NAME, 'body').send_keys(Keys.F11)"
   ]
  },
  {
   "cell_type": "code",
   "execution_count": 43,
   "id": "6613a34a",
   "metadata": {},
   "outputs": [
    {
     "name": "stdout",
     "output_type": "stream",
     "text": [
      "顶部菜单栏： flt-semantic-node-33\n"
     ]
    }
   ],
   "source": [
    "'''5. 设置顶部栏不可见（不好找，有多层。可放弃，截图是计算后忽略顶部栏高度和底部栏高度即可。）'''\n",
    "try:\n",
    "    # 查找子元素 aria-label 为 \"显示菜单栏\" 的 flt-semantics 元素\n",
    "    sub_element = driver.find_element(By.XPATH, '//flt-semantics[@aria-label=\"显示菜单栏\"]')\n",
    "    # 然后定位到第二层的祖先： flt-semantics 元素\n",
    "    grandpa_element = sub_element.find_element(By.XPATH, './ancestor::flt-semantics[1]')\n",
    "    # 打印找到的父元素\n",
    "    print(\"顶部菜单栏：\", grandpa_element.get_attribute('id'))\n",
    "\n",
    "    # 如果需要，可以对这个父元素进行其他操作，比如设置不可见\n",
    "    driver.execute_script(\"arguments[0].style.visibility='hidden';\", grandpa_element)\n",
    "except Exception as e:\n",
    "    print(\"顶部菜单获取错误：\", e)\n"
   ]
  },
  {
   "cell_type": "code",
   "execution_count": 44,
   "id": "3ac00e37",
   "metadata": {},
   "outputs": [],
   "source": [
    "# 完成后关闭 WebDriver\n",
    "driver.quit()"
   ]
  },
  {
   "cell_type": "code",
   "execution_count": null,
   "id": "72629f3f",
   "metadata": {},
   "outputs": [],
   "source": []
  }
 ],
 "metadata": {
  "kernelspec": {
   "display_name": "osmnxMap",
   "language": "python",
   "name": "osmnxmap"
  },
  "language_info": {
   "codemirror_mode": {
    "name": "ipython",
    "version": 3
   },
   "file_extension": ".py",
   "mimetype": "text/x-python",
   "name": "python",
   "nbconvert_exporter": "python",
   "pygments_lexer": "ipython3",
   "version": "3.8.19"
  }
 },
 "nbformat": 4,
 "nbformat_minor": 5
}
