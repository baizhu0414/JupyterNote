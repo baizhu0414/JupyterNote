{
 "cells": [
  {
   "cell_type": "markdown",
   "id": "684966bd",
   "metadata": {},
   "source": [
    "## 一、由于numpy2.x(py3.9)不符合项目需要，而numpy<2就需要py<=3.8。因此下面第一部分的配置成功但不能使用。建议使用第二部分配置。"
   ]
  },
  {
   "cell_type": "code",
   "execution_count": 1,
   "id": "3183eb4b",
   "metadata": {},
   "outputs": [],
   "source": [
    "# 详细介绍：https://surfsplatting.github.io/\n",
    "# 论文github地址：https://github.com/hbb1/2d-gaussian-splatting?tab=readme-ov-file"
   ]
  },
  {
   "cell_type": "code",
   "execution_count": null,
   "id": "42181f6e",
   "metadata": {},
   "outputs": [],
   "source": [
    " 依赖如下：\n",
    "1. 与cuda(nvcc--version :11.3.58)版本有关的项：\n",
    "# 本地下载：http://download.pytorch.org/whl/torch_stable.html（使用pip安装，python版本和cuda均需对应）\n",
    "# 版本对应：https://blog.csdn.net/shiwanghualuo/article/details/122860521\n",
    "  - pytorch:torch-1.12.0+cu113-cp39-cp39-win_amd64\n",
    "  - torchaudio:torchaudio-0.12.0+cu113-cp39-cp39-win_amd64\n",
    "  - torchvision:torchvision-0.13.0+cu113-cp39-cp39-win_amd64\n",
    "\n",
    "2. 与visual studio有关（cmake& cl.exe& vs2019）：\n",
    "    - submodules/diff-surfel-rasterization\n",
    "    - submodules/simple-knn"
   ]
  },
  {
   "cell_type": "markdown",
   "id": "4e6038d8",
   "metadata": {},
   "source": [
    "![VC++](./Pictures/0001-visualstudio的cmake依赖(cl_exe).png)"
   ]
  },
  {
   "cell_type": "markdown",
   "id": "d250fa71",
   "metadata": {},
   "source": [
    "![cl.exe程序配置，方便cmake运行](./Pictures/0002-clexe配置.png)"
   ]
  },
  {
   "cell_type": "code",
   "execution_count": null,
   "id": "e6d3a39d",
   "metadata": {},
   "outputs": [],
   "source": [
    "报错：UserWarning: It seems that the VC environment is activated but DISTUTILS_USE_SDK is not set.This may lead to multiple activations of the VC env.Please set DISTUTILS_USE_SDK=1 and try again.\n",
    "解决：命令行运行 set DISTUTILS_USE_SDK=1"
   ]
  },
  {
   "cell_type": "code",
   "execution_count": null,
   "id": "19048d38",
   "metadata": {},
   "outputs": [],
   "source": [
    "报错：\n",
    "UserWarning: Error checking compiler version for cl: [WinError 2] 系统找不到指定的文件。\n",
    "        warnings.warn(f'Error checking compiler version for {compiler}: {error}')\n",
    "      Traceback (most recent call last):\n",
    "       ......\n",
    "TypeError: expected string or bytes-like object\n",
    "      [end of output]\n",
    "\n",
    "  note: This error originates from a subprocess, and is likely not a problem with pip.\n",
    "  ERROR: Failed building wheel for diff-surfel-rasterization\n",
    "  Running setup.py clean for diff-surfel-rasterization\n",
    "Failed to build diff-surfel-rasterization\n",
    "ERROR: ERROR: Failed to build installable wheels for some pyproject.toml based projects (diff-surfel-rasterization)\n",
    "\n",
    "解决：\n",
    "1. 安装Visual studio（2019以下，且cuda113），并配置如上图\n",
    "2. 命令行运行 D:\\VisualStudioCommunity\\IDE\\VC\\Auxiliary\\Build\\vcvars64.bat\n",
    "3. 配置cl.exe如上图"
   ]
  },
  {
   "cell_type": "markdown",
   "id": "b5facb10",
   "metadata": {},
   "source": [
    "### pip install setuptools==57.5.0\n",
    "\n",
    "### pip install setuptools_scm==7.0.1\n",
    "\n",
    "### pip install cmake==3.20.2"
   ]
  },
  {
   "cell_type": "markdown",
   "id": "a5875977",
   "metadata": {},
   "source": [
    "## 二、基于py3.8构建2dgs环境"
   ]
  },
  {
   "cell_type": "code",
   "execution_count": null,
   "id": "cb8c4ac0",
   "metadata": {},
   "outputs": [],
   "source": [
    "dependencies:\n",
    "  - ffmpeg=4.2.2\n",
    "  - pillow=10.2.0\n",
    "  - pip=23.3.1\n",
    "  - python=3.8.18\n",
    "  - pytorch=2.0.0（2 torch相关）\n",
    "  - torchaudio=2.0.0（3 torch相关）\n",
    "  - torchvision=0.15.0（1 torch相关）\n",
    "  - typing_extensions=4.9.0\n",
    "  - pip:\n",
    "    - open3d==0.18.0\n",
    "    - mediapy==1.1.2\n",
    "    - lpips==0.1.4\n",
    "    - scikit-image==0.21.0（torch相关）\n",
    "    - tqdm==4.66.2\n",
    "    - trimesh==4.3.2\n",
    "    - submodules/diff-surfel-rasterization（torch相关）\n",
    "    - submodules/simple-knn（torch相关）\n",
    "    - plyfile\n",
    "    - opencv-python"
   ]
  },
  {
   "cell_type": "code",
   "execution_count": null,
   "id": "49304a22",
   "metadata": {},
   "outputs": [],
   "source": [
    "RuntimeError: CUDA out of memory. \n",
    "    Tried to allocate 20.00 MiB (GPU 0; 4.00 GiB total capacity; 2.65 GiB already allocated; \n",
    "                                 0 bytes free; 3.46 GiB reserved in total by PyTorch) \n",
    "    If reserved memory is >> allocated memory \n",
    "    try setting max_split_size_mb to avoid fragmentation.  \n",
    "    See documentation for Memory Management and PYTORCH_CUDA_ALLOC_CONF\n",
    "\n",
    "解决：命令行 set PYTORCH_CUDA_ALLOC_CONF=max_split_size_mb:32"
   ]
  }
 ],
 "metadata": {
  "kernelspec": {
   "display_name": "Test01VirtualEnv",
   "language": "python",
   "name": "test01virtualenv"
  },
  "language_info": {
   "codemirror_mode": {
    "name": "ipython",
    "version": 3
   },
   "file_extension": ".py",
   "mimetype": "text/x-python",
   "name": "python",
   "nbconvert_exporter": "python",
   "pygments_lexer": "ipython3",
   "version": "3.8.19"
  }
 },
 "nbformat": 4,
 "nbformat_minor": 5
}
