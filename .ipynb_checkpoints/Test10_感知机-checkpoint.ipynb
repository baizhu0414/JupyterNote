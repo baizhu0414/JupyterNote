{
 "cells": [
  {
   "cell_type": "code",
   "execution_count": 1,
   "id": "a4d2c260",
   "metadata": {},
   "outputs": [],
   "source": [
    "# 感知机即一个分类函数：\n",
    "# f(w^Tx)= 0/1(w^Tx>0时，f=1);w^Tx=0是一条分割线或面，即w1x+w2y+w3z+b= 0,w^T= [b,w1,...,wn],x= [1, x1,..., xn]\n"
   ]
  },
  {
   "cell_type": "code",
   "execution_count": 2,
   "id": "a33de30a",
   "metadata": {},
   "outputs": [],
   "source": [
    "%matplotlib inline\n",
    "import torch\n",
    "import torchvision\n",
    "from torch.utils import data\n",
    "from torchvision import transforms\n",
    "from d2l import torch as d2l\n",
    "\n",
    "d2l.use_svg_display??"
   ]
  },
  {
   "cell_type": "code",
   "execution_count": null,
   "id": "e1ef369d",
   "metadata": {},
   "outputs": [],
   "source": []
  }
 ],
 "metadata": {
  "kernelspec": {
   "display_name": "Test01VirtualEnv",
   "language": "python",
   "name": "test01virtualenv"
  },
  "language_info": {
   "codemirror_mode": {
    "name": "ipython",
    "version": 3
   },
   "file_extension": ".py",
   "mimetype": "text/x-python",
   "name": "python",
   "nbconvert_exporter": "python",
   "pygments_lexer": "ipython3",
   "version": "3.9.19"
  }
 },
 "nbformat": 4,
 "nbformat_minor": 5
}
