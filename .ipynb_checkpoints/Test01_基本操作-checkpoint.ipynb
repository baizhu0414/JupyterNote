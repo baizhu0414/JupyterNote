{
 "cells": [
  {
   "cell_type": "code",
   "execution_count": 4,
   "id": "f5963c09",
   "metadata": {},
   "outputs": [
    {
     "data": {
      "text/plain": [
       "True"
      ]
     },
     "execution_count": 4,
     "metadata": {},
     "output_type": "execute_result"
    }
   ],
   "source": [
    "import torch\n",
    "torch.cuda.is_available()"
   ]
  },
  {
   "cell_type": "code",
   "execution_count": 1,
   "id": "fc1058c7",
   "metadata": {
    "scrolled": true
   },
   "outputs": [
    {
     "name": "stdout",
     "output_type": "stream",
     "text": [
      "{1, 2, 3}\n",
      "(1, 2, 3, 1)\n",
      "[1, 2, 3, 1]\n",
      "{'a': 1, 'b': 2, 'c': 3}\n",
      "实验结果是123.22 \n",
      "实验结果是 123.22\n"
     ]
    }
   ],
   "source": [
    "# 基本变量类型\n",
    "str= \"a real string\"\n",
    "num= 123.22\n",
    "boolNum= True\n",
    "\n",
    "# 高级变量类型（可迭代对象，使用 max等函数）\n",
    "set_v= {1,2,3,1} #集合无序，且不重复\n",
    "tuple_v= (1,2,3,1) #元组（Tuple）有顺序\n",
    "list_v= [1,2,3,1] #列表（List）\n",
    "dic_v= {'a':1, 'b':2, 'c':3} # 字典（Dictionary）\n",
    "\n",
    "print(set_v)\n",
    "print(tuple_v)\n",
    "print(list_v)\n",
    "print(dic_v)\n",
    "\n",
    "#f字符串\n",
    "print(f\"实验结果是{num} \")\n",
    "#元组法输出数据(元组法输出会有空格自动产生)\n",
    "print(\"实验结果是\", num)"
   ]
  },
  {
   "cell_type": "code",
   "execution_count": 5,
   "id": "e91513cf",
   "metadata": {},
   "outputs": [
    {
     "name": "stdout",
     "output_type": "stream",
     "text": [
      "4\n"
     ]
    }
   ],
   "source": [
    "# 长度\n",
    "print(len(list_v))"
   ]
  },
  {
   "cell_type": "code",
   "execution_count": null,
   "id": "8d134a7c",
   "metadata": {},
   "outputs": [],
   "source": [
    "# 这是在虚拟环境中配置的Jupyter代码编辑器"
   ]
  },
  {
   "cell_type": "code",
   "execution_count": 5,
   "id": "ecad228b",
   "metadata": {
    "scrolled": true
   },
   "outputs": [
    {
     "name": "stdout",
     "output_type": "stream",
     "text": [
      "16\n",
      "2\n",
      "2.5\n",
      "0.3333333333333333\n"
     ]
    }
   ],
   "source": [
    "# 幂次\n",
    "print(2**4)\n",
    "# 取整\n",
    "print(5//2)\n",
    "print(5/2)\n",
    "print(1/3)\n"
   ]
  },
  {
   "cell_type": "code",
   "execution_count": 10,
   "id": "39dc0012",
   "metadata": {},
   "outputs": [
    {
     "name": "stdout",
     "output_type": "stream",
     "text": [
      "{1, 2, 3} (1, 2, 3, 1) [1, 2, 3, 1] {'a': 1, 'b': 2, 'c': 3}\n",
      "True\n",
      "True\n",
      "True\n",
      "True\n"
     ]
    }
   ],
   "source": [
    "# 基于高级变量类型，判断是否存在\n",
    "print(set_v, tuple_v, list_v, dic_v)\n",
    "print(2 in set_v)\n",
    "print(2 in tuple_v)\n",
    "print(2 in list_v)\n",
    "print('a' in dic_v) # 默认判断key"
   ]
  },
  {
   "cell_type": "code",
   "execution_count": 1,
   "id": "7071fbc9",
   "metadata": {},
   "outputs": [
    {
     "name": "stdout",
     "output_type": "stream",
     "text": [
      "1.53\n",
      "1.53\n",
      "1\n"
     ]
    }
   ],
   "source": [
    "# 类型转换\n",
    "float_v= 1.53\n",
    "print(float_v)\n",
    "print(str(float_v))\n",
    "print(int(float_v))"
   ]
  },
  {
   "cell_type": "code",
   "execution_count": 14,
   "id": "2f809647",
   "metadata": {},
   "outputs": [
    {
     "name": "stdout",
     "output_type": "stream",
     "text": [
      "[2, 3, 4]\n",
      "[1, 2, 3]\n",
      "[3, 4, 5]\n",
      "[2, 3, 4]\n",
      "[2, 4]\n"
     ]
    }
   ],
   "source": [
    "list_v= [1,2,3,4,5]\n",
    "#[1,4)\n",
    "print(list_v[1:4])\n",
    "print(list_v[:3])\n",
    "print(list_v[2:])\n",
    "#去除首尾元素\n",
    "print(list_v[1:-1])\n",
    "#跳着选择[1,),两元素的下标差2\n",
    "print(list_v[1::2])"
   ]
  },
  {
   "cell_type": "code",
   "execution_count": 18,
   "id": "74c8330b",
   "metadata": {},
   "outputs": [
    {
     "name": "stdout",
     "output_type": "stream",
     "text": [
      "[1, 2, 3, 1, 1, 2, 3, 1]\n",
      "[2, 4, 6, 2]\n"
     ]
    }
   ],
   "source": [
    "#复制2遍\n",
    "print(list_v*2)\n",
    "# 乘2\n",
    "print([x*2 for x in list_v])"
   ]
  },
  {
   "cell_type": "code",
   "execution_count": 24,
   "id": "d1be0b7c",
   "metadata": {},
   "outputs": [
    {
     "name": "stdout",
     "output_type": "stream",
     "text": [
      "True \n",
      " {1, 3, 'ddd'} <class 'set'>\n",
      "(1, 2, 3, 'dd') <class 'tuple'>\n"
     ]
    }
   ],
   "source": [
    "dic_v= {1:True, 'Key2':{1,1,1,3,'ddd'}, 'key3':(1,2,3,'dd')}\n",
    "print(dic_v[1], '\\n', dic_v['Key2'], type(dic_v['Key2']))\n",
    "print(dic_v['key3'], type(dic_v['key3']))"
   ]
  },
  {
   "cell_type": "code",
   "execution_count": 29,
   "id": "25eabff5",
   "metadata": {},
   "outputs": [
    {
     "name": "stdout",
     "output_type": "stream",
     "text": [
      "{'Key2': {1, 3, 'ddd'}, 'key3': (1, 2, 3, 'dd'), 'Key4': 'eeeee'}\n"
     ]
    }
   ],
   "source": [
    "#增加元素\n",
    "dic_v['Key4']='eeeee'\n",
    "print(dic_v)\n",
    "#删除元素（原地操作，drop是重新创建一个数组）\n",
    "if 1 in dic_v.keys():\n",
    "    del dic_v[1]\n",
    "    dic_v"
   ]
  },
  {
   "cell_type": "code",
   "execution_count": 30,
   "id": "77bb47ff",
   "metadata": {},
   "outputs": [
    {
     "name": "stdout",
     "output_type": "stream",
     "text": [
      "1111 is a string.\n",
      "2222 is a string.\n",
      "3333 is a string.\n"
     ]
    }
   ],
   "source": [
    "list_v=['1111', '2222', '3333']\n",
    "#遍历列表,冒号不能丢。\n",
    "for s in list_v:\n",
    "    print(f'{s} is a string.')"
   ]
  },
  {
   "cell_type": "code",
   "execution_count": 31,
   "id": "cc29f46a",
   "metadata": {},
   "outputs": [
    {
     "name": "stdout",
     "output_type": "stream",
     "text": [
      "dict_items([('a', 111), ('b', 222), ('c', 333)])\n",
      "key a 的value是111\n",
      "key b 的value是222\n",
      "key c 的value是333\n"
     ]
    }
   ],
   "source": [
    "#遍历字典---元组\n",
    "dic_v={'a':111, 'b':222, 'c':333}\n",
    "print(dic_v.items())\n",
    "for k,v in dic_v.items():# k,v是元组，函数返回是元组的列表\n",
    "    print(f'key {k} 的value是{v}')"
   ]
  },
  {
   "cell_type": "code",
   "execution_count": null,
   "id": "f71902ae",
   "metadata": {},
   "outputs": [],
   "source": []
  }
 ],
 "metadata": {
  "kernelspec": {
   "display_name": "Test01VirtualEnv",
   "language": "python",
   "name": "test01virtualenv"
  },
  "language_info": {
   "codemirror_mode": {
    "name": "ipython",
    "version": 3
   },
   "file_extension": ".py",
   "mimetype": "text/x-python",
   "name": "python",
   "nbconvert_exporter": "python",
   "pygments_lexer": "ipython3",
   "version": "3.8.19"
  }
 },
 "nbformat": 4,
 "nbformat_minor": 5
}
